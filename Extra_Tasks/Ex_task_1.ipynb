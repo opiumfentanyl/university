{
  "nbformat": 4,
  "nbformat_minor": 0,
  "metadata": {
    "colab": {
      "provenance": [],
      "authorship_tag": "ABX9TyPxPCOK5tjED6+VJ7POLfAB",
      "include_colab_link": true
    },
    "kernelspec": {
      "name": "python3",
      "display_name": "Python 3"
    },
    "language_info": {
      "name": "python"
    }
  },
  "cells": [
    {
      "cell_type": "markdown",
      "metadata": {
        "id": "view-in-github",
        "colab_type": "text"
      },
      "source": [
        "<a href=\"https://colab.research.google.com/github/opiumfentanyl/university/blob/main/%D0%94%D0%BE%D0%BF.%20%D0%B7%D0%B0%D0%B4%D0%B0%D0%BD%D0%B8%D1%8F/Untitled0.ipynb\" target=\"_parent\"><img src=\"https://colab.research.google.com/assets/colab-badge.svg\" alt=\"Open In Colab\"/></a>"
      ]
    },
    {
      "cell_type": "code",
      "execution_count": 19,
      "metadata": {
        "colab": {
          "base_uri": "https://localhost:8080/"
        },
        "id": "IARgshCXA5ak",
        "outputId": "c54b15f6-251d-42d6-c777-0be818a8bb81"
      },
      "outputs": [
        {
          "name": "stdout",
          "output_type": "stream",
          "text": [
            "6\n",
            "Число меньше загаданного!\n",
            "Выход\n"
          ]
        }
      ],
      "source": [
        "import random\n",
        "\n",
        "task = random.randint(0,100)\n",
        "c=1\n",
        "a=101\n",
        "while a != task:\n",
        "  a = input()\n",
        "  if a== 'Выход':\n",
        "    break\n",
        "  elif int(a) > task:\n",
        "    print ('Число больше загаданного!')\n",
        "    c+=1\n",
        "  elif int(a) < task:\n",
        "    print ('Число меньше загаданного!')\n",
        "    c+=1\n",
        "  else:\n",
        "    print ('Вы угадали число! Количество попыток :' + str(c))\n",
        "    c=1\n",
        "\n",
        "\n",
        "\n",
        "\n",
        "\n",
        "\n",
        "\n"
      ]
    }
  ]
}